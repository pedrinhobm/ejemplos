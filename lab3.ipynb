{
  "cells": [
    {
      "cell_type": "markdown",
      "source": [
        "Resolver los siguientes ítems:\n",
        "\n",
        "1) Emplear el comando lscpu y en una celda de Texto indicar cual es la frecuencia del CPU en MHz.\n",
        "\n",
        "2) Emplear una celda mágica para crear un archivo extensión .c cuyo nombre es suma_cuadrados. Este archivo debe contener una función que recibe como argumentos un puntero y la cantidad de elementos alojados en memoria, y devolver la suma de los cuadrados de los elementos.\n",
        "\n",
        "3) Compilar el archivo suma_cuadrados.c con las opciones necesarias para que ocupe poco espacio y se genere un object file con el mismo nombre, pero extensión .o.\n",
        "\n",
        "5) Emplear el comando objdump para mostrar código ensamblador del segmento de código del object file generado en el ítem anterior en sintaxis de intel.\n",
        "\n",
        "6) Emplear una celda mágica para crear un archivo extensión .c cuyo nombre es main. Este archivo debe contener lo siguiente:\n",
        "\n",
        "Una Función Con Nombre Crear_arr Que Devuelva Un Puntero Apuntando A Memoria Alojada, Cuyos Valores Son Números Aleatorios Entre 0 Y 9. Su Único Argumento Es El Número De Elementos.\n",
        "La Función Implementada En El Ítem 2.\n",
        "Una Función Que Devuelve El Número De Instrucciones De Su Función Implementada En El Ítem 2. Su Único Argumento Es El Número De Elementos. Obtenga La Expresión A Partir De La Siguiente Tabla:\n",
        "N\t#instrucciones\n",
        "0\t7\n",
        "1\t14\n",
        "2\t21\n",
        "3\t28\n",
        "Una Función Que Devuelve El CPI. La Función Solo Debe Recibir Como Argumentos La Cantidad De Ciclos, Y La Cantidad De Instrucciones.\n",
        "Una Función Que Devuelve Los MIPS. La Función Solo Debe Recibir Como Argumentos La Frecuencia De Reloj Y El CPI.\n",
        "Una Función De Nombre Test. Esta Función Imprimirá En La Consola O Terminal Los Valores Mínimo, Máximo Y La Media Del CPI, Así Como De Los MIPS (Para Cada Caso) Luego De 100000 Iteraciones. Dentro De Esta Función Se Deberán Llamar Las Funciones Implementadas En El Ítem Anterior En El Orden Pertinente Para Que Se Pueda Cumplir Con Lo Solicitado. El Único Argumento De Esta Función Es Número De Elementos Del Arreglo.\n",
        "La Función Main Debe Recibir Un Argumento Por Línea De Comandos, Que Será Interpretado Como La Cantidad De Elementos Del Arreglo. En Caso No Se Reciba Argumentos Por Línea De Comandos El Valor De La Cantidad De Elementos Será 16384. En Caso Reciba Más De Dos Argumentos Deberá Imprimir Un Mensaje De Que Está Pasando Más De La Cantidad De Argumentos Requeridos, Además De Indicaciones De Cual Es El Uso Correcto, Y Terminar El Programa.\n",
        "Compilar el archivo del ítem 5 y genere un ejecutable de nombre main.\n",
        "\n",
        "Realice las siguientes pruebas del ejecutable del ítem 6:\n",
        "\n",
        "Sin Argumentos\n",
        "Con Dos Argumentos\n",
        "Con Argumento 32768\n",
        "Con Argumento 65536\n",
        "Notas:\n",
        "\n",
        "En Comentarios Justifique Los Tipos De Dato Que Emplea.\n",
        "El Formato De Presentación Es Un Cuaderno De Jupyter. No Se Aceptará Ningún Otro Formato.\n",
        "Para Medir Los Ciclos De Reloj Transcurridos Deberá Emplear La Función __rdtsc Proporcionado Por La Librería X86intrin.H."
      ],
      "metadata": {
        "id": "NDQwjMj4pUhx"
      }
    },
    {
      "cell_type": "markdown",
      "metadata": {
        "id": "M9OzPYBFo677"
      },
      "source": [
        "1. Emplear el comando lscpu y en una celda de Texto indicar cual es la frecuencia del CPU en MHz."
      ]
    },
    {
      "cell_type": "code",
      "execution_count": null,
      "metadata": {
        "id": "JgbrTskco68F",
        "outputId": "ed9a43ca-6053-46a3-8e23-c7bd5bb93025"
      },
      "outputs": [
        {
          "name": "stdout",
          "output_type": "stream",
          "text": [
            "Architecture:            x86_64\n",
            "  CPU op-mode(s):        32-bit, 64-bit\n",
            "  Address sizes:         39 bits physical, 48 bits virtual\n",
            "  Byte Order:            Little Endian\n",
            "CPU(s):                  2\n",
            "  On-line CPU(s) list:   0,1\n",
            "Vendor ID:               GenuineIntel\n",
            "  Model name:            Intel(R) Core(TM) i7-10510U CPU @ 1.80GHz\n",
            "    CPU family:          6\n",
            "    Model:               142\n",
            "    Thread(s) per core:  1\n",
            "    Core(s) per socket:  2\n",
            "    Socket(s):           1\n",
            "    Stepping:            12\n",
            "    BogoMIPS:            4608.00\n",
            "    Flags:               fpu vme de pse tsc msr pae mce cx8 apic sep mtrr pge mc\n",
            "                         a cmov pat pse36 clflush mmx fxsr sse sse2 ht syscall n\n",
            "                         x rdtscp lm constant_tsc rep_good nopl xtopology nonsto\n",
            "                         p_tsc cpuid tsc_known_freq pni pclmulqdq ssse3 cx16 pci\n",
            "                         d sse4_1 sse4_2 x2apic movbe popcnt aes xsave avx rdran\n",
            "                         d hypervisor lahf_lm abm 3dnowprefetch invpcid_single f\n",
            "                         sgsbase bmi1 avx2 bmi2 invpcid rdseed clflushopt md_cle\n",
            "                         ar flush_l1d arch_capabilities\n",
            "Virtualisation features: \n",
            "  Hypervisor vendor:     KVM\n",
            "  Virtualisation type:   full\n",
            "Caches (sum of all):     \n",
            "  L1d:                   64 KiB (2 instances)\n",
            "  L1i:                   64 KiB (2 instances)\n",
            "  L2:                    512 KiB (2 instances)\n",
            "  L3:                    16 MiB (2 instances)\n",
            "NUMA:                    \n",
            "  NUMA node(s):          1\n",
            "  NUMA node0 CPU(s):     0,1\n",
            "Vulnerabilities:         \n",
            "  Itlb multihit:         KVM: Mitigation: VMX unsupported\n",
            "  L1tf:                  Not affected\n",
            "  Mds:                   Not affected\n",
            "  Meltdown:              Not affected\n",
            "  Mmio stale data:       Vulnerable: Clear CPU buffers attempted, no microcode; \n",
            "                         SMT Host state unknown\n",
            "  Retbleed:              Vulnerable\n",
            "  Spec store bypass:     Vulnerable\n",
            "  Spectre v1:            Mitigation; usercopy/swapgs barriers and __user pointer\n",
            "                          sanitization\n",
            "  Spectre v2:            Mitigation; Retpolines, STIBP disabled, RSB filling, PB\n",
            "                         RSB-eIBRS Not affected\n",
            "  Srbds:                 Unknown: Dependent on hypervisor status\n",
            "  Tsx async abort:       Not affected\n"
          ]
        }
      ],
      "source": [
        "! lscpu  #1.80GHz"
      ]
    },
    {
      "cell_type": "markdown",
      "metadata": {
        "id": "-zJ80U2So68H"
      },
      "source": [
        "2. Emplear una celda mágica para crear un archivo extensión .c cuyo nombre es suma_cuadrados. Este archivo debe contener una función que recibe como argumentos un puntero y la cantidad de elementos alojados en memoria, y devolver la suma de los cuadrados de los elementos."
      ]
    },
    {
      "cell_type": "code",
      "execution_count": 1,
      "metadata": {
        "id": "2QnZiVCPo68H",
        "outputId": "f01cd445-c583-46fa-9782-7ec3c93064db",
        "colab": {
          "base_uri": "https://localhost:8080/"
        }
      },
      "outputs": [
        {
          "output_type": "stream",
          "name": "stdout",
          "text": [
            "Writing suma_cuadrados.c\n"
          ]
        }
      ],
      "source": [
        "%%file suma_cuadrados.c\n",
        "\n",
        "#include <stdio.h>\n",
        "\n",
        "int suma_cuadrados(int *arr , int N){\n",
        "    int suma = 0;\n",
        "    for ( int i ; i < N ; i++){\n",
        "        suma += arr[i] * arr[i];\n",
        "    }\n",
        "    return suma;\n",
        "}"
      ]
    },
    {
      "cell_type": "markdown",
      "metadata": {
        "id": "qYIDQ3uVo68J"
      },
      "source": [
        "3. Compilar el archivo suma_cuadrados.c con las opciones necesarias para que ocupe poco espacio y se genere un object file con el mismo nombre, pero extensión .o."
      ]
    },
    {
      "cell_type": "code",
      "execution_count": null,
      "metadata": {
        "id": "So3P0yzzo68J"
      },
      "outputs": [],
      "source": [
        "! gcc -Os -c suma_cuadrados.c -o suma_cuadrados.o"
      ]
    },
    {
      "cell_type": "markdown",
      "metadata": {
        "id": "bUQCkNceo68J"
      },
      "source": [
        "4. Emplear el comando objdump para mostrar código ensamblador del segmento de código del object file generado en el ítem anterior en sintaxis de intel."
      ]
    },
    {
      "cell_type": "code",
      "execution_count": null,
      "metadata": {
        "id": "QRs4r5uJo68J",
        "outputId": "95c0d9f9-ccc2-4f75-fbc5-93c038972a6d"
      },
      "outputs": [
        {
          "name": "stdout",
          "output_type": "stream",
          "text": [
            "\n",
            "suma_cuadrados.o:     file format elf64-x86-64\n",
            "\n",
            "\n",
            "Disassembly of section .text:\n",
            "\n",
            "0000000000000000 <suma_cuadrados>:\n",
            "   0:\tf3 0f 1e fa          \tendbr64 \n",
            "   4:\t31 c0                \txor    eax,eax\n",
            "   6:\t45 31 c0             \txor    r8d,r8d\n",
            "   9:\t39 c6                \tcmp    esi,eax\n",
            "   b:\t7e 0e                \tjle    1b <suma_cuadrados+0x1b>\n",
            "   d:\t8b 14 87             \tmov    edx,DWORD PTR [rdi+rax*4]\n",
            "  10:\t48 ff c0             \tinc    rax\n",
            "  13:\t0f af d2             \timul   edx,edx\n",
            "  16:\t41 01 d0             \tadd    r8d,edx\n",
            "  19:\teb ee                \tjmp    9 <suma_cuadrados+0x9>\n",
            "  1b:\t44 89 c0             \tmov    eax,r8d\n",
            "  1e:\tc3                   \tret    \n"
          ]
        }
      ],
      "source": [
        "! objdump -M intel -j .text -D suma_cuadrados.o"
      ]
    },
    {
      "cell_type": "markdown",
      "metadata": {
        "id": "FRWghzBAo68K"
      },
      "source": [
        "5. Emplear una celda mágica para crear un archivo extensión .c cuyo nombre es main. Este archivo debe contener lo siguiente:\n",
        "\n",
        "○ Una Función Con Nombre Crear_arr Que Devuelva Un Puntero Apuntando A Memoria Alojada, Cuyos Valores Son Números Aleatorios Entre 0 Y 9. Su Único Argumento Es El Número De Elementos.\n",
        "\n",
        "○ La Función Implementada En El Ítem 2.\n",
        "\n",
        "○ Una Función Que Devuelve El Número De Instrucciones De Su Función Implementada En El Ítem 2. Su Único Argumento Es El Número De Elementos. Obtenga La Expresión\n",
        "\n",
        "A Partir De La Siguiente Tabla:\n",
        "\n",
        "\tN\t#instrucciones\n",
        "\t0\t7\n",
        "\t1\t14\n",
        "\t2\t21\n",
        "\t3\t28\n",
        "\n",
        "• Una Función Que Devuelve El CPI. La Función Solo Debe Recibir Como Argumentos La Cantidad De Ciclos, Y La Cantidad De Instrucciones.\n",
        "\n",
        "• Una Función Que Devuelve Los MIPS. La Función Solo Debe Recibir Como Argumentos La Frecuencia De Reloj Y El CPI.\n",
        "\n",
        "• Una Función De Nombre Test. Esta Función Imprimirá En La Consola O Terminal Los Valores Mínimo, Máximo Y La Media Del CPI, Así Como De Los MIPS (Para Cada Caso) Luego De 100000 Iteraciones. Dentro De Esta Función Se Deberán Llamar Las Funciones Implementadas En El Ítem Anterior En El Orden Pertinente Para Que Se Pueda Cumplir Con Lo Solicitado. El Único Argumento De Esta Función Es Número De Elementos Del Arreglo.\n",
        "\n",
        "• La Función Main Debe Recibir Un Argumento Por Línea De Comandos, Que Será Interpretado Como La Cantidad De Elementos Del Arreglo. En Caso No Se Reciba Argumentos Por Línea De Comandos El Valor De La Cantidad De Elementos Será 16384. En Caso Reciba Más De Dos Argumentos Deberá Imprimir Un Mensaje De Que Está Pasando Más De La Cantidad De Argumentos Requeridos, Además De Indicaciones De Cual Es El Uso Correcto, Y Terminar El Programa."
      ]
    },
    {
      "cell_type": "code",
      "execution_count": null,
      "metadata": {
        "id": "slB9ADrLo68M",
        "outputId": "a279abd5-d6d8-4bed-eb44-24d2fe4185f8"
      },
      "outputs": [
        {
          "name": "stdout",
          "output_type": "stream",
          "text": [
            "Overwriting main.c\n"
          ]
        }
      ],
      "source": [
        "%%file main.c\n",
        "\n",
        "#include <x86intrin.h>\n",
        "#include <stdio.h>\n",
        "#include <stdlib.h>\n",
        "#include <math.h>\n",
        "#include <time.h>\n",
        "\n",
        "int* crear_arr(int N) {\n",
        "    int* arr = (int*)malloc(sizeof(int)*N);\n",
        "    for (int i = 0; i < N; i++) {\n",
        "        arr[i] = rand() % 10;\n",
        "    }\n",
        "    return arr;\n",
        "}\n",
        "\n",
        "int suma_cuadrados(int *arr , int N){\n",
        "    int suma = 0;\n",
        "    for ( int i ; i < N ; i++){\n",
        "        suma += arr[i] * arr[i];\n",
        "    }\n",
        "    return suma;\n",
        "}\n",
        "\n",
        "int cal_num_inst(int N) {\n",
        "    return 7*N + 7;\n",
        "}\n",
        "\n",
        "double cal_cpi(long int ciclos, int instrucciones) {\n",
        "    return (double)ciclos / (double)instrucciones;\n",
        "}\n",
        "\n",
        "double cal_mips(double frecuencia, double cpi) {\n",
        "    return (double)frecuencia /((double)cpi * 1000000);\n",
        "}\n",
        "\n",
        "void test(int N){\n",
        "\n",
        "    int* arr = crear_arr(N);\n",
        "    int suma = suma_cuadrados(arr , N);\n",
        "    free(arr);\n",
        "\n",
        "    int insts = cal_num_inst(N);\n",
        "\n",
        "    double total_cpi = 0;\n",
        "    double total_mips = 0;\n",
        "    double min_cpi = 0;\n",
        "    double max_cpi = 0;\n",
        "    double min_mips = 0;\n",
        "    double max_mips = 0;\n",
        "\n",
        "    for (int i = 0 ; i < 100000 ; i++){\n",
        "\n",
        "        long int tic , toc , ciclos;\n",
        "\n",
        "        tic = __rdtsc();\n",
        "        suma_cuadrados(arr , N);\n",
        "        toc = __rdtsc();\n",
        "        ciclos = toc-tic;\n",
        "\n",
        "        double cpi = cal_cpi(ciclos, insts);\n",
        "        double mips = cal_mips(1.80*pow(10,9), cpi);\n",
        "\n",
        "        total_cpi += cpi;\n",
        "        total_mips += mips;\n",
        "\n",
        "        if(i == 0){\n",
        "            min_cpi = cpi;\n",
        "            max_cpi = cpi;\n",
        "            min_mips = mips;\n",
        "            max_mips = mips;\n",
        "        }else{\n",
        "            if (cpi < min_cpi) min_cpi = cpi;\n",
        "            if (cpi > max_cpi) max_cpi = cpi;\n",
        "            if (mips < min_mips) min_mips = mips;\n",
        "            if (mips > max_mips) max_mips = mips;\n",
        "        }\n",
        "    }\n",
        "\n",
        "    double prom_cpi = total_cpi / 100000;\n",
        "    double prom_mips = total_mips / 100000;\n",
        "\n",
        "    printf(\"Resultados para %d elementos:\\n\", N);\n",
        "    printf(\"Suma de los cuadrados: %d\\n\", suma);\n",
        "    printf(\"Número de instrucciones: %d\\n\", insts);\n",
        "    printf(\"Mínimo CPI: %.5lf\\n\", min_cpi);\n",
        "    printf(\"Máximo CPI: %.5lf\\n\", max_cpi);\n",
        "    printf(\"Media CPI: %.5lf\\n\", prom_cpi);\n",
        "    printf(\"Mínimo MIPS: %.5lf\\n\", min_mips);\n",
        "    printf(\"Máximo MIPS: %.5lf\\n\", max_mips);\n",
        "    printf(\"Media MIPS: %.5lf\\n\\n\", prom_mips);\n",
        "}\n",
        "\n",
        "int main(int argc, char* argv[]) {\n",
        "    int num = 16384;\n",
        "\n",
        "    srand(time(NULL));\n",
        "    if (argc > 2) {\n",
        "        printf(\"Error: Se esperaba solo un argumento (número de elementos).\\n\");\n",
        "        printf(\"Uso correcto: %s [numero_elementos]\\n\", argv[0]);\n",
        "        return 1;\n",
        "    } else if (argc == 2) {\n",
        "        num= atoi(argv[1]);\n",
        "    }\n",
        "    test(num);\n",
        "\n",
        "    return 0;\n",
        "}\n",
        "\n"
      ]
    },
    {
      "cell_type": "markdown",
      "metadata": {
        "id": "XOYAdnOxo68N"
      },
      "source": [
        "6. Compilar el archivo del ítem 5 y genere un ejecutable de nombre main.\n",
        "7. Realice las siguientes pruebas del ejecutable del ítem 6:\n",
        "\tSin Argumentos\n",
        "\tCon Dos Argumentos\n",
        "\tCon Argumento 32768\n",
        "\tCon Argumento 65536"
      ]
    },
    {
      "cell_type": "code",
      "execution_count": null,
      "metadata": {
        "id": "LQLoeljco68N"
      },
      "outputs": [],
      "source": [
        "! gcc main.c -o main"
      ]
    },
    {
      "cell_type": "code",
      "execution_count": null,
      "metadata": {
        "id": "kWlRCHiqo68N",
        "outputId": "063bf0e4-183f-49b6-a9f4-8246398aa920"
      },
      "outputs": [
        {
          "name": "stdout",
          "output_type": "stream",
          "text": [
            "Resultados para 16384 elementos:\n",
            "Suma de los cuadrados: 0\n",
            "Número de instrucciones: 114695\n",
            "Mínimo CPI: 0.00010\n",
            "Máximo CPI: 0.39371\n",
            "Media CPI: 0.00045\n",
            "Mínimo MIPS: 4571.95057\n",
            "Máximo MIPS: 17204250.00000\n",
            "Media MIPS: 4129488.76204\n",
            "\n"
          ]
        }
      ],
      "source": [
        "!./main"
      ]
    },
    {
      "cell_type": "code",
      "execution_count": null,
      "metadata": {
        "id": "QmBScdIko68O",
        "outputId": "cab0d6f0-ed26-45d2-cef0-c30ecbce3835"
      },
      "outputs": [
        {
          "name": "stdout",
          "output_type": "stream",
          "text": [
            "Resultados para 1 elementos:\n",
            "Suma de los cuadrados: 0\n",
            "Número de instrucciones: 14\n",
            "Mínimo CPI: 0.85714\n",
            "Máximo CPI: 907.00000\n",
            "Media CPI: 3.77271\n",
            "Mínimo MIPS: 1.98456\n",
            "Máximo MIPS: 2100.00000\n",
            "Media MIPS: 479.60235\n",
            "\n"
          ]
        }
      ],
      "source": [
        "!./main 1"
      ]
    },
    {
      "cell_type": "code",
      "execution_count": null,
      "metadata": {
        "id": "RV2kAouio68O",
        "outputId": "3be69213-a2be-4d4e-c8d9-9945053388d8"
      },
      "outputs": [
        {
          "name": "stdout",
          "output_type": "stream",
          "text": [
            "Resultados para 32768 elementos:\n",
            "Suma de los cuadrados: 301829\n",
            "Número de instrucciones: 229383\n",
            "Mínimo CPI: 0.00005\n",
            "Máximo CPI: 0.15422\n",
            "Media CPI: 0.00023\n",
            "Mínimo MIPS: 11671.45522\n",
            "Máximo MIPS: 34407450.00000\n",
            "Media MIPS: 7922797.24741\n",
            "\n"
          ]
        }
      ],
      "source": [
        "!./main 32768"
      ]
    },
    {
      "cell_type": "code",
      "execution_count": null,
      "metadata": {
        "id": "W1dKK1Lfo68O",
        "outputId": "20219dcf-49fd-40f4-c79d-8f3ea580db65"
      },
      "outputs": [
        {
          "name": "stdout",
          "output_type": "stream",
          "text": [
            "Resultados para 65536 elementos:\n",
            "Suma de los cuadrados: 933760\n",
            "Número de instrucciones: 458759\n",
            "Mínimo CPI: 0.00003\n",
            "Máximo CPI: 0.00229\n",
            "Media CPI: 0.00010\n",
            "Mínimo MIPS: 786444.00000\n",
            "Máximo MIPS: 68813850.00000\n",
            "Media MIPS: 17321490.17780\n",
            "\n"
          ]
        }
      ],
      "source": [
        "!./main 65536"
      ]
    }
  ],
  "metadata": {
    "kernelspec": {
      "display_name": "Python 3",
      "language": "python",
      "name": "python3"
    },
    "language_info": {
      "codemirror_mode": {
        "name": "ipython",
        "version": 3
      },
      "file_extension": ".py",
      "mimetype": "text/x-python",
      "name": "python",
      "nbconvert_exporter": "python",
      "pygments_lexer": "ipython3",
      "version": "3.8.16"
    },
    "orig_nbformat": 4,
    "colab": {
      "provenance": []
    }
  },
  "nbformat": 4,
  "nbformat_minor": 0
}